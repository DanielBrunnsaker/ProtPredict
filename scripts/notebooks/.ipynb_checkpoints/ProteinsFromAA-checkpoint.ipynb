{
 "cells": [
  {
   "cell_type": "code",
   "execution_count": 5,
   "id": "65982be6",
   "metadata": {},
   "outputs": [
    {
     "name": "stdout",
     "output_type": "stream",
     "text": [
      "/Volumes/Samsung_T5/ProtPredict/scripts\n"
     ]
    }
   ],
   "source": [
    "%cd /Volumes/Samsung_T5/ProtPredict/scripts"
   ]
  },
  {
   "cell_type": "markdown",
   "id": "ef27bc8a",
   "metadata": {},
   "source": [
    "## Load dependencies"
   ]
  },
  {
   "cell_type": "code",
   "execution_count": 9,
   "id": "3e951061",
   "metadata": {},
   "outputs": [],
   "source": [
    "import pandas as pd\n",
    "import numpy as np\n",
    "from sklearn.model_selection import cross_validate, KFold\n",
    "from xgboost.sklearn import XGBRegressor\n",
    "from other import Bayes_CV, return_protein_dataset, extract_shap_return_absmeans, extract_xgb_feature_values\n",
    "import matplotlib.pyplot as plt\n",
    "from matplotlib.gridspec import GridSpec"
   ]
  },
  {
   "cell_type": "markdown",
   "id": "119e0d51",
   "metadata": {},
   "source": [
    "## Define initial parameters\n",
    "Define initial parameters, such as number of workers, cross-validation setup and which protein to use for model optimization."
   ]
  },
  {
   "cell_type": "code",
   "execution_count": 8,
   "id": "69fe4ba1",
   "metadata": {},
   "outputs": [],
   "source": [
    "n_parallel = 60 #If parallel, define n workers\n",
    "\n",
    "#define the K in the cross-validation strategies\n",
    "cvcount_inner = 5 #K-fold for optimization\n",
    "cvcount_outer = 5 #K-fold for evaluation\n",
    "\n",
    "opt_protein = 'A5Z2X5' #protein to optimize the models on"
   ]
  },
  {
   "cell_type": "markdown",
   "id": "f8fdbefb",
   "metadata": {},
   "source": [
    "## Load the data-sets\n",
    "\n",
    "Load the needed data-sets.\n",
    "Data-sets from Messner et al. (https://www.biorxiv.org/content/10.1101/2022.05.17.492318v1) and Mülleder et al. (https://www.ncbi.nlm.nih.gov/pmc/articles/PMC5055083/)\n",
    "\n",
    "Data-sets need to be downloaded separately."
   ]
  },
  {
   "cell_type": "code",
   "execution_count": null,
   "id": "4c376bb0",
   "metadata": {},
   "outputs": [],
   "source": [
    "proteomics_dataset_path = '../data/proteomics_messner.csv' #not included in the the repo\n",
    "functional_metabolomics_path = '../data/functional_metabolomics_mulleder.xls' #not included in the repo\n",
    "\n",
    "#load the proteomics dataset from Messner et al. (2022)\n",
    "proteomic_dataset = pd.read_csv('../data/proteomics_messner.csv')\n",
    "proteomic_dataset = proteomic_dataset.groupby('Unnamed: 0').mean() #Average potential duplicate rows\n",
    "\n",
    "#load the functional metabolomics dataset from Mulleder et al. (2016)\n",
    "aaDataset = pd.read_excel('../data/functional_metabolomics_mulleder.xls',sheet_name = 'intracellular_concentration_mM')\n",
    "aaDataset.index = aaDataset['ORF']\n",
    "aaDataset = aaDataset.iloc[:,2:21] #limit to the measured amino acid concentrations\n",
    "\n",
    "#Merge the two on the ORF of the deletion\n",
    "dataset = pd.merge(proteomic_dataset, aaDataset, left_index=True, right_index=True)\n"
   ]
  },
  {
   "cell_type": "markdown",
   "id": "341f54c2",
   "metadata": {},
   "source": [
    "## Model optimization\n",
    "\n",
    "Optimize/tune hyperparameters for XGBoost using bayesian optimization. In the study, the model is being tuned on the first example in the data-set (Uniprot: A5Z2X5, Common: MIN8, ORF: YPR010C-A)"
   ]
  },
  {
   "cell_type": "code",
   "execution_count": null,
   "id": "3a107727",
   "metadata": {},
   "outputs": [],
   "source": [
    "#Define parameter space to search\n",
    "params={'gamma': (0.0,1.0),\n",
    "        'max_depth': (2, 12),\n",
    "        'subsample': (0.4, 1.0),\n",
    "        'learning_rate':(0.005,0.3,'log-uniform'),\n",
    "        'n_estimators':(10,1000),\n",
    "        'colsample_bytree':(0.4, 1.0),\n",
    "        'reg_lambda':(0.0,1.0),\n",
    "        'reg_alpha':(0.0,0.5)}\n",
    "\n",
    "#Function to define X and Y\n",
    "X, y, nancount = return_protein_dataset(dataset, opt_protein)\n",
    "\n",
    "#define the bayesian optimization process\n",
    "best_params = Bayes_CV(params, X, y, cvcount_inner, n_parallel, 42)"
   ]
  },
  {
   "cell_type": "markdown",
   "id": "aedf82f1",
   "metadata": {},
   "source": [
    "## Train the models\n",
    "\n",
    "Train the models for all of the separate proteins using XGBoost and evaluate with 5-fold CV and save them for later use. "
   ]
  },
  {
   "cell_type": "code",
   "execution_count": null,
   "id": "89732585",
   "metadata": {},
   "outputs": [],
   "source": [
    "scores = pd.DataFrame(columns = ['Protein','MissingY','R-squared','RMSE'])\n",
    "for Protein in dataset.columns[:2292]:\n",
    "    \n",
    "    X, y, nancount = return_protein_dataset(dataset, Protein)\n",
    "    \n",
    "    #define regressor and evaluate model\n",
    "    regressor = XGBRegressor(random_state = 0, n_jobs = n_parallel, **best_params)\n",
    "    outer_cv = KFold(n_splits=cvcount_outer, shuffle=True, random_state=0)\n",
    "    score_all = cross_validate(regressor, X, np.ravel(y), cv=outer_cv, scoring = ('r2', 'neg_root_mean_squared_error'))\n",
    "    score = score_all['test_r2']\n",
    "    rmse = score_all['test_neg_root_mean_squared_error']\n",
    "\n",
    "    #save scores\n",
    "    temp_df = pd.DataFrame([[Protein, nancount,score[0],rmse[0]], [Protein, nancount,score[1],rmse[1]], [Protein, nancount,score[2],rmse[2]], \n",
    "            [Protein, nancount,score[3],rmse[3]], [Protein, nancount,score[4],rmse[4]]], columns=['Protein', 'MissingY', 'R-squared', 'RMSE'])\n",
    "    scores = scores.append(temp_df)\n",
    "    scores.to_csv('../results/evaluation/AA/protfromAA_results.csv')"
   ]
  },
  {
   "cell_type": "markdown",
   "id": "524f16c6",
   "metadata": {},
   "source": [
    "## Visualize performance metrics\n",
    "\n",
    "Visualize average cross-validation performance (in R2) across the space of available proteins in the data-set."
   ]
  },
  {
   "cell_type": "code",
   "execution_count": 16,
   "id": "50e3c452",
   "metadata": {},
   "outputs": [
    {
     "data": {
      "image/png": "[encoded data removed]",
      "text/plain": [
       "<Figure size 1008x504 with 2 Axes>"
      ]
     },
     "metadata": {
      "needs_background": "light"
     },
     "output_type": "display_data"
    }
   ],
   "source": [
    "#data = pd.read_csv('../results/evaluation/AA/protfromAA_results.csv', index_col = 0)\n",
    "data = pd.read_csv('../results/evaluation/AA/AA_20230314.csv', index_col = 0)\n",
    "data_mean = data.groupby(by='Protein').mean() #group and take the average of folds\n",
    "data_mean = data_mean.sort_values(by = 'R-squared', ascending = False) #sort by average\n",
    "\n",
    "fig = plt.figure(figsize = (14,7))\n",
    "gs = GridSpec(4,4)\n",
    "\n",
    "ax_joint = fig.add_subplot(gs[0:4,0:3])\n",
    "ax_marg_y = fig.add_subplot(gs[0:4,3])\n",
    "ax_joint.scatter(x = data_mean.index,y = data_mean['R-squared'], alpha = 0.5, marker = 's', s = 7, label='ILP', color = '#3B97B6')\n",
    "\n",
    "ax_marg_y.hist(data_mean['R-squared'],orientation=\"horizontal\", bins = 75, alpha = 0.5, density = True, color = '#3B97B6')\n",
    "\n",
    "# Turn off tick labels on marginals\n",
    "plt.setp(ax_marg_y.get_yticklabels(), visible=False)\n",
    "\n",
    "# Set labels on joint\n",
    "ax_joint.set_xlabel('Proteins')\n",
    "ax_joint.set_ylabel('R-squared')\n",
    "\n",
    "ax_marg_y.spines['top'].set_visible(False)\n",
    "ax_marg_y.spines['right'].set_visible(False)\n",
    "ax_marg_y.spines['bottom'].set_visible(False)\n",
    "\n",
    "ax_joint.tick_params(\n",
    "    axis='x',          # changes apply to the x-axis\n",
    "    which='both',      # both major and minor ticks are affected\n",
    "    bottom=False,      # ticks along the bottom edge are off\n",
    "    top=False,         # ticks along the top edge are off\n",
    "    labelbottom=False) # labels along the bottom edge are off\n",
    "\n",
    "ax_marg_y.tick_params(\n",
    "    axis='x',          # changes apply to the x-axis\n",
    "    which='both',      # both major and minor ticks are affected\n",
    "    bottom=False,      # ticks along the bottom edge are off\n",
    "    top=False,         # ticks along the top edge are off\n",
    "    labelbottom=False) # labels along the bottom edge are off\n",
    "\n",
    "ax_joint.legend(['Amino acid features'])\n",
    "ax_joint.set_title('Protein model performance')\n",
    "plt.show()"
   ]
  },
  {
   "cell_type": "markdown",
   "id": "3dfad8de",
   "metadata": {},
   "source": [
    "## Extract SHAP-values\n",
    "\n",
    "Extract SHAP-values to be used for later analysis."
   ]
  },
  {
   "cell_type": "code",
   "execution_count": null,
   "id": "9c832767",
   "metadata": {},
   "outputs": [],
   "source": [
    "shapmeans_proteins = pd.DataFrame(index = dataset.columns[2292:]) #predefine df for feature shap-values\n",
    "for Protein in dataset.columns[:2292]:    \n",
    "    X, y, nancount = return_protein_dataset(dataset, Protein)\n",
    "    \n",
    "    #train regressor\n",
    "    regressor = XGBRegressor(random_state = 0, n_jobs = n_parallel, **best_params)\n",
    "    regressor.fit(X,y)\n",
    "    \n",
    "    #extract shap-values (in the form of abs(average)) for all proteins in the dataset\n",
    "    shapmeans_proteins = extract_shap_return_absmeans(regressor, X, Protein, shapmeans_proteins)\n",
    "    shapmeans_proteins.to_csv('../intermediateData/feature_values/AA/Proteins_AA_SHAP_means.tsv', sep = '\\t')\n",
    "    \n",
    "    #extract all XGB-feature values (gain, total gain, ...) and save protein result each separately\n",
    "    xgb_feature_values = extract_xgb_feature_values(regressor)\n",
    "    xgb_feature_values.to_csv('../intermediateData/feature_values/AA/'+Protein+'_AA_XGB.tsv', sep = '\\t')"
   ]
  }
 ],
 "metadata": {
  "kernelspec": {
   "display_name": "Python 3 (ipykernel)",
   "language": "python",
   "name": "python3"
  },
  "language_info": {
   "codemirror_mode": {
    "name": "ipython",
    "version": 3
   },
   "file_extension": ".py",
   "mimetype": "text/x-python",
   "name": "python",
   "nbconvert_exporter": "python",
   "pygments_lexer": "ipython3",
   "version": "3.8.13"
  }
 },
 "nbformat": 4,
 "nbformat_minor": 5
}
